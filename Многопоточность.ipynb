{
 "cells": [
  {
   "cell_type": "code",
   "execution_count": 1,
   "metadata": {},
   "outputs": [
    {
     "name": "stdout",
     "output_type": "stream",
     "text": [
      "3.6668150424957275\n"
     ]
    }
   ],
   "source": [
    "import threading\n",
    "import sys\n",
    "import time\n",
    "import urllib.request\n",
    "import time\n",
    "\n",
    "urls = [\n",
    "    'https://www.yandex.ru', 'https://www.google.com',\n",
    "    'https://habrahabr.ru', 'https://www.python.org',\n",
    "    'https://isocpp.org',\n",
    "]\n",
    "\n",
    "\n",
    "def read_url(url):\n",
    "    with urllib.request.urlopen(url) as u:\n",
    "        return u.read()\n",
    "    \n",
    "    \n",
    "    \n",
    "\n",
    "\n",
    "start = time.time()\n",
    "for url in urls:\n",
    "    read_url(url)\n",
    "print(time.time() - start)"
   ]
  },
  {
   "cell_type": "code",
   "execution_count": 3,
   "metadata": {},
   "outputs": [
    {
     "name": "stdout",
     "output_type": "stream",
     "text": [
      "0.08546113967895508\n"
     ]
    }
   ],
   "source": [
    "def read_url(url):\n",
    "    with urllib.request.urlopen(url) as u:\n",
    "        return u.read()\n",
    "    \n",
    "def run_threads(list_url):\n",
    "    threads = [\n",
    "        threading.Thread(target=read_url, args=(i,))\n",
    "        for i in list_url\n",
    "    ]\n",
    "    for thread in threads:\n",
    "        thread.start()\n",
    "        \n",
    "        \n",
    "\n",
    "urls = [\n",
    "    'https://www.yandex.ru', 'https://www.google.com',\n",
    "    'https://habrahabr.ru', 'https://www.python.org',\n",
    "    'https://isocpp.org',\n",
    "]        \n",
    "start = time.time()\n",
    "run_threads(urls)\n",
    "print(time.time() - start)"
   ]
  },
  {
   "cell_type": "code",
   "execution_count": null,
   "metadata": {},
   "outputs": [],
   "source": []
  }
 ],
 "metadata": {
  "kernelspec": {
   "display_name": "Python 3",
   "language": "python",
   "name": "python3"
  },
  "language_info": {
   "codemirror_mode": {
    "name": "ipython",
    "version": 3
   },
   "file_extension": ".py",
   "mimetype": "text/x-python",
   "name": "python",
   "nbconvert_exporter": "python",
   "pygments_lexer": "ipython3",
   "version": "3.7.6"
  }
 },
 "nbformat": 4,
 "nbformat_minor": 2
}
