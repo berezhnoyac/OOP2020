{
 "cells": [
  {
   "cell_type": "markdown",
   "metadata": {},
   "source": [
    "## 1 "
   ]
  },
  {
   "cell_type": "code",
   "execution_count": 4,
   "metadata": {},
   "outputs": [
    {
     "name": "stdout",
     "output_type": "stream",
     "text": [
      "11 + 12 j\n"
     ]
    },
    {
     "data": {
      "text/plain": [
       "5.385164807134504"
      ]
     },
     "execution_count": 4,
     "metadata": {},
     "output_type": "execute_result"
    }
   ],
   "source": [
    "class Complex():\n",
    "    def __init__(self, x = 0, y = 1):\n",
    "        self.x = x\n",
    "        self.y = y\n",
    "    def __add__(self, other):\n",
    "        return Complex(self.x + other.x, self.y + other.y)\n",
    "    def __sub__(self, other):\n",
    "        return Complex(self.x - other.x, self.y - other.y)\n",
    "    def __mul__(self, other):\n",
    "        return Complex(self.x * other.x - self.y*other.y, self.x * other.y + self.y * other.x)\n",
    "    def __truediv__(self, other):\n",
    "        return Complex((self.x * other.x + self.y*other.y)/(other.x**2 + other.y**2), \n",
    "                       (-self.x * other.y + self.y * other.x)/(other.x**2 + other.y**2))\n",
    "    def __abs__(self):\n",
    "        return (self.x**2 + self.y**2)**(1/2)\n",
    "    \n",
    "    \n",
    "A = Complex(2,5)\n",
    "B = Complex(9,7)\n",
    "C = A + B\n",
    "\n",
    "\n",
    "print(C.x, '+', C.y, 'j')\n",
    "abs(A)"
   ]
  },
  {
   "cell_type": "markdown",
   "metadata": {},
   "source": [
    "## 2 "
   ]
  },
  {
   "cell_type": "code",
   "execution_count": 3,
   "metadata": {},
   "outputs": [
    {
     "name": "stdout",
     "output_type": "stream",
     "text": [
      "<bound method Space.cmass of <__main__.Space object at 0x0000023D709C6148>>\n"
     ]
    }
   ],
   "source": [
    "class Vector():\n",
    "    def __init__(self, x = 0, y = 0, z = 0):\n",
    "        self.x = x\n",
    "        self.y = y\n",
    "        self.z = z\n",
    "        \n",
    "    def __add__(self, other):\n",
    "        return Vector(self.x + other.x, self.y + other.y, self.z + other.z)\n",
    "    \n",
    "    \n",
    "    def __sub__(self, other):\n",
    "        return Complex(self.x - other.x, self.y - other.y, self.z - other.z)\n",
    "    \n",
    "    \n",
    "    def __mul__(self, other):\n",
    "        return (self.x*other.x + self.y*other.y + self.z*other.z)\n",
    "    \n",
    "    \n",
    "    def __str__(self):\n",
    "        return '(' + str(self.x) + ', ' + str(self.y)+ ', ' + str(self.z) + ')'\n",
    "    \n",
    "    \n",
    "    def norm(self):\n",
    "        return (self.x**2 + self.y**2 + self.z**2)**(1/2)\n",
    "    \n",
    "    \n",
    "    def check(self):\n",
    "        return self.y\n",
    "    \n",
    "\n",
    "class Space(Vector):\n",
    "    def __int__(self, N):\n",
    "        self._N = N\n",
    "    def cmass(self):\n",
    "        return (self.x/self._N, self.y/self._N, self.z/self._N)\n",
    "    \n",
    "a = Space(9)\n",
    "print(a.cmass)"
   ]
  },
  {
   "cell_type": "code",
   "execution_count": null,
   "metadata": {},
   "outputs": [],
   "source": []
  }
 ],
 "metadata": {
  "kernelspec": {
   "display_name": "Python 3",
   "language": "python",
   "name": "python3"
  },
  "language_info": {
   "codemirror_mode": {
    "name": "ipython",
    "version": 3
   },
   "file_extension": ".py",
   "mimetype": "text/x-python",
   "name": "python",
   "nbconvert_exporter": "python",
   "pygments_lexer": "ipython3",
   "version": "3.7.6"
  }
 },
 "nbformat": 4,
 "nbformat_minor": 2
}
