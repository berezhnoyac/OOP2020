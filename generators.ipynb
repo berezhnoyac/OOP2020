{
 "cells": [
  {
   "cell_type": "markdown",
   "metadata": {},
   "source": [
    "## 1 упражнение"
   ]
  },
  {
   "cell_type": "code",
   "execution_count": null,
   "metadata": {},
   "outputs": [],
   "source": [
    "def print_map(function, iterable):\n",
    "    for i in iterable:\n",
    "        print(function(i))\n",
    "        \n",
    "def print_(function, my_list):\n",
    "    list_iter = iter(my_list)\n",
    "    while True:\n",
    "      try:\n",
    "        word = next(list_iter)\n",
    "        print(f(word))\n",
    "      except StopIteration:\n",
    "        break\n",
    "        \n",
    "def f(x):\n",
    "    return(int(x)**2)\n",
    "print_(f, range(4))"
   ]
  },
  {
   "cell_type": "markdown",
   "metadata": {},
   "source": [
    "## 2 упражнение"
   ]
  },
  {
   "cell_type": "code",
   "execution_count": 1,
   "metadata": {},
   "outputs": [
    {
     "name": "stdout",
     "output_type": "stream",
     "text": [
      "1 1 2 3 5 8 13 21 34 55 89 144 233 377 610 987 1597 2584 4181 6765 \n"
     ]
    }
   ],
   "source": [
    "def fibonacci(n):\n",
    "    fib1, fib2 = 0, 1\n",
    "    for i in range(n):\n",
    "        fib1, fib2 = fib2, fib1 + fib2\n",
    "        yield fib1\n",
    "\n",
    "for fib in fibonacci(20):\n",
    "    print(fib, end=' ')\n",
    "print()"
   ]
  },
  {
   "cell_type": "markdown",
   "metadata": {},
   "source": [
    "## Упр. 3 : zip, map, enumerate"
   ]
  },
  {
   "cell_type": "code",
   "execution_count": 1,
   "metadata": {},
   "outputs": [
    {
     "name": "stdout",
     "output_type": "stream",
     "text": [
      "[1, 'a']\n",
      "[2, 'b']\n"
     ]
    }
   ],
   "source": [
    "def _zip(*argv):\n",
    "    result = []\n",
    "    y = [len(i) for i in argv]\n",
    "    for i in range(min(y)):\n",
    "        for n in range(len(argv)):\n",
    "            result.append(argv[n][i])\n",
    "        yield result\n",
    "        result = []\n",
    "        \n",
    "for i in _zip([1,2,3], ['a', 'b']):\n",
    "    print(i)\n",
    "   "
   ]
  },
  {
   "cell_type": "code",
   "execution_count": 3,
   "metadata": {},
   "outputs": [
    {
     "name": "stdout",
     "output_type": "stream",
     "text": [
      "1\n",
      "4\n",
      "9\n",
      "16\n"
     ]
    }
   ],
   "source": [
    "def _map(func, iterable):\n",
    "    for i in iterable:\n",
    "        yield func(i)\n",
    "        \n",
    "for i in _map(lambda x: x**2, [1,2,3,4]):\n",
    "    print(i)\n",
    "    "
   ]
  },
  {
   "cell_type": "code",
   "execution_count": 2,
   "metadata": {},
   "outputs": [
    {
     "name": "stdout",
     "output_type": "stream",
     "text": [
      "('a', 0)\n",
      "('b', 1)\n",
      "('c', 2)\n"
     ]
    }
   ],
   "source": [
    "def _enumerate(names, s = 0):\n",
    "    for i in names:\n",
    "        yield i, s\n",
    "        s += 1\n",
    "        \n",
    "for i in _enumerate(['a', 'b', 'c']):\n",
    "    print(i)"
   ]
  },
  {
   "cell_type": "markdown",
   "metadata": {},
   "source": [
    "## Упр. 1: декартово произведение"
   ]
  },
  {
   "cell_type": "code",
   "execution_count": 5,
   "metadata": {},
   "outputs": [
    {
     "name": "stdout",
     "output_type": "stream",
     "text": [
      "1 3\n",
      "1 4\n",
      "2 3\n",
      "2 4\n",
      "\n"
     ]
    }
   ],
   "source": [
    "import itertools\n",
    "def get_cartesian_product(a, b):\n",
    "    for x, y in itertools.product([1, 2], [3, 4]):\n",
    "        yield (x, y)\n",
    "    \n",
    "    \n",
    "for result in get_cartesian_product([1,2], [3,4]):\n",
    "    print(*result, end = '\\n')\n",
    "print()    "
   ]
  },
  {
   "cell_type": "markdown",
   "metadata": {},
   "source": [
    "## Упр.:2 перестановки"
   ]
  },
  {
   "cell_type": "code",
   "execution_count": 6,
   "metadata": {},
   "outputs": [
    {
     "name": "stdout",
     "output_type": "stream",
     "text": [
      "m a n\n",
      "m n a\n",
      "a m n\n",
      "a n m\n",
      "n m a\n",
      "n a m\n",
      "\n"
     ]
    }
   ],
   "source": [
    "def get_permutations(s, n):\n",
    "    for x in itertools.permutations(s, n):\n",
    "        yield x\n",
    "for i in get_permutations('man', 3):\n",
    "    print(*i, end = '\\n')\n",
    "print()"
   ]
  },
  {
   "cell_type": "markdown",
   "metadata": {},
   "source": [
    "## Упр.: 3 комбинации"
   ]
  },
  {
   "cell_type": "code",
   "execution_count": 7,
   "metadata": {},
   "outputs": [
    {
     "name": "stdout",
     "output_type": "stream",
     "text": [
      "m \n",
      "a \n",
      "n \n",
      "m a \n",
      "m n \n",
      "a n \n",
      "\n"
     ]
    }
   ],
   "source": [
    "def get_combinations(s, n):\n",
    "    for i in range(1, n+1):\n",
    "        for x in itertools.combinations(s, i):\n",
    "            yield x\n",
    "        \n",
    "\n",
    "for i in get_combinations(\"man\", 2):\n",
    "    print(*i, end= ' \\n')\n",
    "print()"
   ]
  },
  {
   "cell_type": "markdown",
   "metadata": {},
   "source": [
    "## Упр.: 4 комбинации с повторениями"
   ]
  },
  {
   "cell_type": "code",
   "execution_count": 9,
   "metadata": {},
   "outputs": [
    {
     "name": "stdout",
     "output_type": "stream",
     "text": [
      "m m\n",
      "m a\n",
      "m n\n",
      "a a\n",
      "a n\n",
      "n n\n",
      "\n"
     ]
    }
   ],
   "source": [
    "def get_combinations_with_r(s, n):\n",
    "    for i in itertools.combinations_with_replacement(s, n):\n",
    "        yield i\n",
    "\n",
    "for i in get_combinations_with_r('man', 2):\n",
    "    print(*i, end = '\\n')\n",
    "print()\n"
   ]
  },
  {
   "cell_type": "markdown",
   "metadata": {},
   "source": [
    "## Упр.: 5 количество подряд идущих символов"
   ]
  },
  {
   "cell_type": "code",
   "execution_count": 11,
   "metadata": {
    "scrolled": true
   },
   "outputs": [
    {
     "name": "stdout",
     "output_type": "stream",
     "text": [
      "(1, 1)\n",
      "(3, 2)\n",
      "(1, 3)\n",
      "(4, 1)\n",
      "(3, 2)\n",
      "(1, 1)\n"
     ]
    }
   ],
   "source": [
    "def compress_string(s):\n",
    "    for key, group in itertools.groupby(s, key = None):\n",
    "        \n",
    "        yield len(list(group)), int(key)\n",
    "        \n",
    "for i in compress_string('1222311112221'):\n",
    "    print(i)\n",
    "    \n",
    "\n"
   ]
  },
  {
   "cell_type": "markdown",
   "metadata": {},
   "source": [
    "## Упр.: 6"
   ]
  },
  {
   "cell_type": "code",
   "execution_count": 13,
   "metadata": {},
   "outputs": [
    {
     "name": "stdout",
     "output_type": "stream",
     "text": [
      "206\n"
     ]
    }
   ],
   "source": [
    "def maximize(lists, m):\n",
    "    for i in range(len(lists)):\n",
    "        yield max(lists[i])**2 % m\n",
    "    \n",
    "    \n",
    "lists = [\n",
    "    [5, 4],\n",
    "    [7, 8, 9],\n",
    "    [5, 7, 8, 9, 10]\n",
    "]   \n",
    "\n",
    "result = 0\n",
    "for i in maximize(lists, 1000):\n",
    "    result += i\n",
    "print(result)\n"
   ]
  },
  {
   "cell_type": "code",
   "execution_count": null,
   "metadata": {},
   "outputs": [],
   "source": []
  }
 ],
 "metadata": {
  "kernelspec": {
   "display_name": "Python 3",
   "language": "python",
   "name": "python3"
  },
  "language_info": {
   "codemirror_mode": {
    "name": "ipython",
    "version": 3
   },
   "file_extension": ".py",
   "mimetype": "text/x-python",
   "name": "python",
   "nbconvert_exporter": "python",
   "pygments_lexer": "ipython3",
   "version": "3.7.6"
  }
 },
 "nbformat": 4,
 "nbformat_minor": 2
}
