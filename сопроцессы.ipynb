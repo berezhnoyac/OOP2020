{
 "cells": [
  {
   "cell_type": "markdown",
   "metadata": {},
   "source": [
    "От некоторого устройства в режиме реального времени приходят данные. Необходимо написать сопрограмму, которая вычисляет среднее, дисперсию, а также количество элементов в переданном наборе данных с устройства. "
   ]
  },
  {
   "cell_type": "code",
   "execution_count": 2,
   "metadata": {},
   "outputs": [
    {
     "name": "stdout",
     "output_type": "stream",
     "text": [
      "1\n",
      "Среднее 1.0\n",
      "Количество  данных 1\n",
      "Дисперсия 0.0\n",
      "2\n",
      "Среднее 1.5\n",
      "Количество  данных 2\n",
      "Дисперсия 0.25\n",
      "10\n",
      "Среднее 4.333333333333333\n",
      "Количество  данных 3\n",
      "Дисперсия 16.22222222222222\n",
      "\n"
     ]
    }
   ],
   "source": [
    "import numpy as np\n",
    "\n",
    "def print_coroutine(x):\n",
    "    average = 0\n",
    "    n = 0\n",
    "    arr = []\n",
    "    while True:\n",
    "        x = yield x\n",
    "        n += 1\n",
    "        arr.append(x)\n",
    "        disp = np.var(arr)\n",
    "        average = (average * (n-1)+x)/(n)\n",
    "        print('Среднее', average)\n",
    "        print('Количество  данных', n)\n",
    "        print('Дисперсия', disp)\n",
    "\n",
    "data = input()\n",
    "coroutine = print_coroutine(data)\n",
    "next(coroutine)\n",
    "while data != '':\n",
    "    coroutine.send(int(data))\n",
    "    data = input()\n",
    "    \n",
    "    "
   ]
  },
  {
   "cell_type": "code",
   "execution_count": null,
   "metadata": {},
   "outputs": [],
   "source": []
  }
 ],
 "metadata": {
  "kernelspec": {
   "display_name": "Python 3",
   "language": "python",
   "name": "python3"
  },
  "language_info": {
   "codemirror_mode": {
    "name": "ipython",
    "version": 3
   },
   "file_extension": ".py",
   "mimetype": "text/x-python",
   "name": "python",
   "nbconvert_exporter": "python",
   "pygments_lexer": "ipython3",
   "version": "3.7.6"
  }
 },
 "nbformat": 4,
 "nbformat_minor": 2
}
